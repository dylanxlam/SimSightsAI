{
 "cells": [
  {
   "cell_type": "markdown",
   "metadata": {},
   "source": [
    "## **Data Loading**\n",
    "\n",
    "**CSV files:**\n",
    "- penguins.csv -"
   ]
  },
  {
   "cell_type": "markdown",
   "metadata": {},
   "source": [
    "## **Data Cleaning**\n",
    "\n",
    "**Notes**\n",
    "- add \\n for readability\n",
    "\n",
    "#### **Null Value Handling (Deletion)**\n",
    "\n",
    "- deletion -\n",
    "- outliers - (no outliers with penguins)\n",
    "- duplicates - (no duplicates with penguins)\n",
    "- formatting - (no formatting issues found with penguins)\n",
    "\n",
    "##### **EDA**\n",
    "\n",
    "- numeric vizualization - (must exit out of plot before prompting visualization choice again)\n",
    "    - (must enter a choice of visualization before being able to choose q to quit (within inner loop))\n",
    "- categorical vizualization - (same as numeric)\n",
    "- correlation - \n",
    "    - pearson - (says 'Statistically significant association found.') for all Chi-Square tests.\n",
    "\n",
    "##### **Preprocessing**\n",
    "- data type conversion - (year from int64 to float64)\n",
    "- scale/normalize - (no skewness found)\n",
    "    - standard scaling !!!!!\n"
   ]
  },
  {
   "cell_type": "code",
   "execution_count": null,
   "metadata": {},
   "outputs": [],
   "source": [
    "  X_train = train_data.drop(target_column, axis=1)\n",
    "  y_train = train_data[target_column]\n",
    "\n",
    "  categorical_columns = X_train.select_dtypes(include=['object']).columns\n",
    "\n",
    "  # Encode categorical variables\n",
    "  if len(categorical_columns) > 0:\n",
    "    print(\"\\n** Verifying that categorical variables are encoded...**\")\n",
    "    X_train = pd.get_dummies(X_train, columns=categorical_columns)\n",
    "\n",
    "    # Ensure val_data and test_data have the same columns as X_train\n",
    "    X_val = pd.get_dummies(val_data.drop(target_column, axis=1), columns=categorical_columns)\n",
    "\n",
    "    # Add missing columns to val and test data\n",
    "    for col in X_train.columns:\n",
    "      if col not in X_val.columns:\n",
    "        X_val[col] = 0\n",
    "\n",
    "    X_val = X_val[X_train.columns]\n",
    "    print(X_val.head())\n",
    "    if y_train.dtype == 'object':\n",
    "      label_encoder = LabelEncoder()\n",
    "      y_train = label_encoder.fit_transform(y_train)\n",
    "      y_val = label_encoder.transform(val_data[target_column])\n",
    "    else:\n",
    "      y_val = val_data[target_column]\n"
   ]
  },
  {
   "cell_type": "code",
   "execution_count": null,
   "metadata": {},
   "outputs": [],
   "source": [
    "  # Interactive explanation of the metric (optional)\n",
    "  if metric_value.__name__ in [\"accuracy_score\", \"precision_score\", \"recall_score\", \"f1_score\"]:\n",
    "    if metric_value.__name__ == \"accuracy_score\":\n",
    "      print(\"\\n** Accuracy represents the proportion of correct predictions made by the model.**\")\n",
    "      print(\"A higher accuracy indicates better overall performance for classification tasks.\")\n",
    "    elif metric_value.__name__ == \"precision_score\":\n",
    "      print(\"\\n** Precision represents the proportion of positive predictions that were actually correct.**\")\n",
    "      print(\"It tells us how good the model is at identifying true positives, minimizing false positives.\")\n",
    "    elif metric_value.__name__ == \"recall_score\":\n",
    "      print(\"\\n** Recall represents the proportion of actual positive cases that were correctly identified by the model.**\")\n",
    "      print(\"It tells us how good the model is at capturing all the relevant positive cases, minimizing false negatives.\")\n",
    "    elif metric_value.__name__ == \"f1_score\":\n",
    "      print(\"\\n** F1-score (harmonic mean of precision and recall) is a balanced measure that considers both precision and recall.**\")\n",
    "      print(\"A higher F1-score indicates a better balance between these two metrics.\")\n",
    "  else:\n",
    "    print(f\"\\n** The chosen metric '{metric_value.__name__}' is not currently explained here. Refer to relevant documentation for its interpretation.**\")\n",
    "\n",
    "  print(\"\\n** More comprehensive evaluation metrics might be explored for deeper insights.**\")\n"
   ]
  }
 ],
 "metadata": {
  "kernelspec": {
   "display_name": "myenv",
   "language": "python",
   "name": "python3"
  },
  "language_info": {
   "name": "python",
   "version": "3.8.17"
  },
  "orig_nbformat": 4
 },
 "nbformat": 4,
 "nbformat_minor": 2
}
