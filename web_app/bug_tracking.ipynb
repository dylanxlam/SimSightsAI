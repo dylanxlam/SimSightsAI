{
 "cells": [
  {
   "cell_type": "markdown",
   "metadata": {},
   "source": [
    "## **Data Loading**\n",
    "\n",
    "**CSV files:**\n",
    "- penguins.csv -"
   ]
  },
  {
   "cell_type": "markdown",
   "metadata": {},
   "source": [
    "## **Data Cleaning**\n",
    "\n",
    "**Notes**\n",
    "- add \\n for readability\n",
    "\n",
    "#### **Null Value Handling (Deletion)**\n",
    "\n",
    "- deletion -\n",
    "- outliers - (no outliers with penguins)\n",
    "- duplicates - (no duplicates with penguins)\n",
    "- formatting - (no formatting issues found with penguins)\n",
    "\n",
    "##### **EDA**\n",
    "\n",
    "- numeric vizualization - (must exit out of plot before prompting visualization choice again)\n",
    "    - (must enter a choice of visualization before being able to choose q to quit (within inner loop))\n",
    "- categorical vizualization - (same as numeric)\n",
    "- correlation - \n",
    "    - pearson - (says 'Statistically significant association found.') for all Chi-Square tests.\n",
    "\n",
    "##### **Preprocessing**\n",
    "- data type conversion - (year from int64 to float64)\n",
    "- scale/normalize - (no skewness found)\n",
    "    - standard scaling !!!!!\n"
   ]
  },
  {
   "cell_type": "code",
   "execution_count": null,
   "metadata": {},
   "outputs": [],
   "source": [
    "  X_train = train_data.drop(target_column, axis=1)\n",
    "  y_train = train_data[target_column]\n",
    "\n",
    "  categorical_columns = X_train.select_dtypes(include=['object']).columns\n",
    "\n",
    "  # Encode categorical variables\n",
    "  if len(categorical_columns) > 0:\n",
    "    print(\"\\n** Verifying that categorical variables are encoded...**\")\n",
    "    X_train = pd.get_dummies(X_train, columns=categorical_columns)\n",
    "\n",
    "    # Ensure val_data and test_data have the same columns as X_train\n",
    "    X_val = pd.get_dummies(val_data.drop(target_column, axis=1), columns=categorical_columns)\n",
    "\n",
    "    # Add missing columns to val and test data\n",
    "    for col in X_train.columns:\n",
    "      if col not in X_val.columns:\n",
    "        X_val[col] = 0\n",
    "\n",
    "    X_val = X_val[X_train.columns]\n",
    "    print(X_val.head())\n",
    "    if y_train.dtype == 'object':\n",
    "      label_encoder = LabelEncoder()\n",
    "      y_train = label_encoder.fit_transform(y_train)\n",
    "      y_val = label_encoder.transform(val_data[target_column])\n",
    "    else:\n",
    "      y_val = val_data[target_column]\n"
   ]
  },
  {
   "cell_type": "code",
   "execution_count": null,
   "metadata": {},
   "outputs": [],
   "source": [
    "  # Interactive explanation of the metric (optional)\n",
    "  if metric_value.__name__ in [\"accuracy_score\", \"precision_score\", \"recall_score\", \"f1_score\"]:\n",
    "    if metric_value.__name__ == \"accuracy_score\":\n",
    "      print(\"\\n** Accuracy represents the proportion of correct predictions made by the model.**\")\n",
    "      print(\"A higher accuracy indicates better overall performance for classification tasks.\")\n",
    "    elif metric_value.__name__ == \"precision_score\":\n",
    "      print(\"\\n** Precision represents the proportion of positive predictions that were actually correct.**\")\n",
    "      print(\"It tells us how good the model is at identifying true positives, minimizing false positives.\")\n",
    "    elif metric_value.__name__ == \"recall_score\":\n",
    "      print(\"\\n** Recall represents the proportion of actual positive cases that were correctly identified by the model.**\")\n",
    "      print(\"It tells us how good the model is at capturing all the relevant positive cases, minimizing false negatives.\")\n",
    "    elif metric_value.__name__ == \"f1_score\":\n",
    "      print(\"\\n** F1-score (harmonic mean of precision and recall) is a balanced measure that considers both precision and recall.**\")\n",
    "      print(\"A higher F1-score indicates a better balance between these two metrics.\")\n",
    "  else:\n",
    "    print(f\"\\n** The chosen metric '{metric_value.__name__}' is not currently explained here. Refer to relevant documentation for its interpretation.**\")\n",
    "\n",
    "  print(\"\\n** More comprehensive evaluation metrics might be explored for deeper insights.**\")\n"
   ]
  },
  {
   "cell_type": "code",
   "execution_count": null,
   "metadata": {},
   "outputs": [],
   "source": [
    "def evaluate_model(trained_model, train_data, val_data, test_data, target_column):\n",
    "  \"\"\"\n",
    "  Guides the user through basic model evaluation on the validation data, providing explanations for commonly used metrics.\n",
    "\n",
    "  Args:\n",
    "      trained_model (object): The trained machine learning model to be evaluated.\n",
    "      val_data (pandas.DataFrame): The DataFrame containing the validation data (features and target).\n",
    "  \"\"\"\n",
    "\n",
    "  print(\"\\n** Evaluating the model's performance on the validation data...**\")\n",
    "  print(\"This helps us understand how well the model generalizes to unseen data.\")\n",
    "  X_train = train_data.drop(target_column, axis=1)\n",
    "  y_train = train_data[target_column]\n",
    "\n",
    "  categorical_columns = X_train.select_dtypes(include=['object']).columns\n",
    "\n",
    "  # Encode categorical variables\n",
    "  if len(categorical_columns) > 0:\n",
    "    X_train = pd.get_dummies(X_train, columns=categorical_columns)\n",
    "\n",
    "    # Ensure val_data and test_data have the same columns as X_train\n",
    "    X_val = pd.get_dummies(val_data.drop(target_column, axis=1), columns=categorical_columns)\n",
    "\n",
    "    # Add missing columns to val and test data\n",
    "    for col in X_train.columns:\n",
    "      if col not in X_val.columns:\n",
    "        X_val[col] = 0\n",
    "\n",
    "    X_val = X_val[X_train.columns]\n",
    "\n",
    "\n",
    "\n",
    "  # Make predictions on the validation data\n",
    "  predictions = trained_model.predict(X_val)\n",
    "\n",
    "  # Choose appropriate evaluation metrics based on the task (classification/regression)\n",
    "  from sklearn.metrics import accuracy_score, precision_score, recall_score, f1_score\n",
    "\n",
    "  # Classification Task Example (assuming model predicts class labels)\n",
    "  if not hasattr(trained_model, \"predict_proba\"):\n",
    "    metric_value = accuracy_score(val_data[target_column], predictions)\n",
    "  # For models with probability prediction capabilities (classification)\n",
    "  else:\n",
    "    # Choose appropriate metric based on task requirements (e.g., accuracy, precision, recall, F1)\n",
    "    metric_value = accuracy_score(val_data[target_column], predictions)  # Replace with the most relevant metric\n",
    "\n",
    "  # Informative message about the chosen metric\n",
    "  if metric_value is not None:\n",
    "    print(f\"\\n**Model performance on the validation data based on accuracy score: {metric_value:.4f} out of 1.0000**\")  # Replace with metric name and formatting\n",
    "\n",
    "\n",
    "  return metric_value, predictions  # Optional: Return the metric value for further analysis\n"
   ]
  },
  {
   "cell_type": "code",
   "execution_count": 1,
   "metadata": {},
   "outputs": [
    {
     "name": "stdout",
     "output_type": "stream",
     "text": [
      "Your Documents folder path: /Users/dylanlam/Documents\n"
     ]
    }
   ],
   "source": [
    "import os\n",
    "\n",
    "documents_folder = os.path.expanduser('~/Documents')\n",
    "\n",
    "print(f\"Your Documents folder path: {documents_folder}\")"
   ]
  }
 ],
 "metadata": {
  "kernelspec": {
   "display_name": "myenv",
   "language": "python",
   "name": "python3"
  },
  "language_info": {
   "codemirror_mode": {
    "name": "ipython",
    "version": 3
   },
   "file_extension": ".py",
   "mimetype": "text/x-python",
   "name": "python",
   "nbconvert_exporter": "python",
   "pygments_lexer": "ipython3",
   "version": "3.8.17"
  },
  "orig_nbformat": 4
 },
 "nbformat": 4,
 "nbformat_minor": 2
}
