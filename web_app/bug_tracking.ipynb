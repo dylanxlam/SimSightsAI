{
 "cells": [
  {
   "cell_type": "markdown",
   "metadata": {},
   "source": [
    "## **Data Loading**\n",
    "\n",
    "**CSV files:**\n",
    "- penguins.csv -"
   ]
  },
  {
   "cell_type": "markdown",
   "metadata": {},
   "source": [
    "## **Data Cleaning**\n",
    "\n",
    "**Notes**\n",
    "- add \\n for readability\n",
    "\n",
    "#### **Null Value Handling (Deletion)**\n",
    "\n",
    "- deletion -\n",
    "- outliers - (no outliers with penguins)\n",
    "- duplicates - (no duplicates with penguins)\n",
    "- formatting - (no formatting issues found with penguins)\n",
    "\n",
    "##### **EDA**\n",
    "\n",
    "- numeric vizualization - (must exit out of plot before prompting visualization choice again)\n",
    "    - (must enter a choice of visualization before being able to choose q to quit (within inner loop))\n",
    "- categorical vizualization - (same as numeric)\n",
    "- correlation - \n",
    "    - pearson - (says 'Statistically significant association found.') for all Chi-Square tests.\n",
    "\n",
    "##### **Preprocessing**\n",
    "- data type conversion - (year from int64 to float64)\n",
    "- scale/normalize - (no skewness found)\n",
    "    - standard scaling !!!!!\n"
   ]
  }
 ],
 "metadata": {
  "language_info": {
   "name": "python"
  },
  "orig_nbformat": 4
 },
 "nbformat": 4,
 "nbformat_minor": 2
}
