{
 "cells": [
  {
   "cell_type": "markdown",
   "metadata": {},
   "source": [
    "# **data_handler/preprocessing.py**\n"
   ]
  },
  {
   "cell_type": "code",
   "execution_count": 1,
   "metadata": {},
   "outputs": [
    {
     "ename": "ModuleNotFoundError",
     "evalue": "No module named 'data_handler'",
     "output_type": "error",
     "traceback": [
      "\u001b[0;31m---------------------------------------------------------------------------\u001b[0m",
      "\u001b[0;31mModuleNotFoundError\u001b[0m                       Traceback (most recent call last)",
      "Cell \u001b[0;32mIn[1], line 37\u001b[0m\n\u001b[1;32m     33\u001b[0m     \u001b[39mreturn\u001b[39;00m preprocessed_data\n\u001b[1;32m     35\u001b[0m \u001b[39m# app.py (Flask application)\u001b[39;00m\n\u001b[0;32m---> 37\u001b[0m \u001b[39mfrom\u001b[39;00m \u001b[39mdata_handler\u001b[39;00m \u001b[39mimport\u001b[39;00m preprocessing\n\u001b[1;32m     39\u001b[0m \u001b[39m# ... other application logic ...\u001b[39;00m\n\u001b[1;32m     41\u001b[0m \u001b[39mdef\u001b[39;00m \u001b[39mhandle_data_upload\u001b[39m():\n\u001b[1;32m     42\u001b[0m     \u001b[39m# Load data from uploaded file\u001b[39;00m\n",
      "\u001b[0;31mModuleNotFoundError\u001b[0m: No module named 'data_handler'"
     ]
    }
   ],
   "source": [
    "import pandas as pd\n",
    "import json\n",
    "\n",
    "def read_data(file):\n",
    "  \"\"\"\n",
    "  Reads data from uploaded file (supports CSV, Excel, TSV, JSON).\n",
    "\n",
    "  Args:\n",
    "      file (object): The uploaded file object from Flask request.\n",
    "\n",
    "  Returns:\n",
    "      pandas.DataFrame (or list/dict): The loaded data in a suitable format.\n",
    "  \"\"\"\n",
    "  # Identify file format based on filename extension or MIME type (consider using magic library)\n",
    "  if file.filename.endswith(\".csv\"):\n",
    "      data = pd.read_csv(file)\n",
    "  elif file.filename.endswith(\".xlsx\"):\n",
    "      data = pd.read_excel(file)\n",
    "  elif file.filename.endswith(\".tsv\"):\n",
    "      data = pd.read_csv(file, sep=\"\\t\")  # Use tab separator for TSV\n",
    "  elif file.filename.endswith(\".json\"):\n",
    "      try:\n",
    "          data = json.load(file)  # Assuming JSON data represents a list or dictionary\n",
    "      except json.JSONDecodeError:\n",
    "          raise ValueError(\"Invalid JSON format. Please check your data.\")\n",
    "  else:\n",
    "      raise ValueError(\"Unsupported file format. Please upload CSV, Excel, TSV, or JSON files.\")\n",
    "\n",
    "  return data\n",
    "\n",
    "# Can add logic for handling image formats (consider for future development)\n",
    "# elif file.content_type.startswith(\"image/\"):  # Check for image content type\n",
    "#     # Implement image loading and pre-processing logic here (libraries like OpenCV)\n",
    "#     # Return a suitable data structure for image data\n",
    "#     pass\n",
    "\n",
    "\n",
    "def clean_data(data):\n",
    "    # Your data cleaning logic here (handling missing values, outliers, etc.)\n",
    "    pass\n",
    "\n",
    "def pre_process_data(data, task):\n",
    "    # Specific pre-processing steps based on chosen task\n",
    "    pass\n",
    "\n",
    "def handle_data_upload():\n",
    "    # Load data from uploaded file\n",
    "    data = ...\n",
    "    \n",
    "    # Preprocess data\n",
    "    # cleaned_data = preprocessing.clean_data(data)\n",
    "    # preprocessed_data = preprocessing.pre_process_data(cleaned_data, chosen_task)\n",
    "    \n",
    "    # Use preprocessed data for further analysis or modeling\n"
   ]
  }
 ],
 "metadata": {
  "kernelspec": {
   "display_name": "myenv",
   "language": "python",
   "name": "python3"
  },
  "language_info": {
   "codemirror_mode": {
    "name": "ipython",
    "version": 3
   },
   "file_extension": ".py",
   "mimetype": "text/x-python",
   "name": "python",
   "nbconvert_exporter": "python",
   "pygments_lexer": "ipython3",
   "version": "3.8.17"
  },
  "orig_nbformat": 4
 },
 "nbformat": 4,
 "nbformat_minor": 2
}
