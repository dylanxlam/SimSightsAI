{
 "cells": [
  {
   "cell_type": "code",
   "execution_count": null,
   "metadata": {},
   "outputs": [],
   "source": [
    "import pandas as pd\n",
    "import numpy as np  # for nan"
   ]
  },
  {
   "cell_type": "code",
   "execution_count": null,
   "metadata": {},
   "outputs": [],
   "source": [
    "# Correcting Skewed Data\n",
    "\n",
    "def identify_skewed_data(data):\n",
    "    \"\"\"\n",
    "    Identifies skewed features in a DataFrame and prompts for correction.\n",
    "\n",
    "    Args:\n",
    "        data (pandas.DataFrame): The DataFrame containing the data.\n",
    "\n",
    "    Returns:\n",
    "        pandas.DataFrame: The original DataFrame (potentially with user-guided transformations).\n",
    "    \"\"\"\n",
    "    numerical_cols = data.select_dtypes(include=[np.number])\n",
    "    skewed_cols = []  # List to store column names with skewness\n",
    "\n",
    "    # Threshold for skewness (adjust as needed)\n",
    "    skewness_threshold = 0.5\n",
    "\n",
    "    for col in numerical_cols:\n",
    "        # Calculate skewness\n",
    "        skew = data[col].skew()\n",
    "\n",
    "    if abs(skew) > skewness_threshold:\n",
    "        skewed_cols.append(col)\n",
    "        print(f\"Column '{col}' appears skewed (skewness: {skew:.2f}).\")\n",
    "        action = input(\"Do you want to address the skewness (y/n)? \").lower()\n",
    "        if action == \"y\":\n",
    "            # User chooses to address skewness\n",
    "            fix_method = input(\"Choose a correction method (log/sqrt/none): \").lower()\n",
    "            if fix_method in [\"log\", \"sqrt\"]:\n",
    "                # Apply transformation (log or sqrt)\n",
    "                if fix_method == \"log\":\n",
    "                    data[col] = np.log(data[col] + 1)  # Avoid log(0) errors by adding 1\n",
    "                    print(f\"Applied log transformation to column '{col}'.\")\n",
    "                else:\n",
    "                    data[col] = np.sqrt(data[col])\n",
    "                    print(f\"Applied square root transformation to column '{col}'.\")\n",
    "            else:\n",
    "                print(f\"Skewness in '{col}' remains unaddressed.\")\n",
    "        else:\n",
    "            print(f\"Skewness in '{col}' remains unaddressed.\")\n",
    "\n",
    "    if not skewed_cols:\n",
    "        print(\"No significant skewness detected in numerical columns.\")\n",
    "\n",
    "    return data\n",
    "\n",
    "    # Example usage\n",
    "    data = pd.DataFrame({ 'col1': [1, 2, 3, 4, 5], 'col2': [10, 100, 1000, 10000, 100000]})\n",
    "    data = identify_skewed_data(data.copy())  # Avoid modifying original data\n"
   ]
  },
  {
   "cell_type": "code",
   "execution_count": null,
   "metadata": {},
   "outputs": [],
   "source": [
    "# Normalizing/Scaling Data"
   ]
  },
  {
   "cell_type": "markdown",
   "metadata": {},
   "source": [
    "**Explanation:**\n",
    "\n",
    "1. Function Definition: The identify_skewed_data function takes a DataFrame (data) as input.\n",
    "2. Numerical Columns: It selects numerical columns using select_dtypes.\n",
    "3. Skewness Threshold: A threshold for skewness (skewness_threshold) is defined (adjustable based on your needs).\n",
    "4. Iterating Through Columns: The code loops through each numerical column.\n",
    "5. Skewness Calculation: It calculates the skewness using data[col].skew().\n",
    "6. Identifying Skewed Columns: If the absolute value of skewness is greater than the threshold, the column name is added to the skewed_cols list, and a message is printed informing the user about the skewness value.\n",
    "7. User Prompt: The user is then prompted to address the skewness (yes/no).\n",
    "8. User Choice: If the user chooses \"y\", another prompt asks for a correction method (log, sqrt, or none).\n",
    "9. Transformation Options: Based on the chosen method (log or sqrt), the data in that column is transformed using np.log or np.sqrt (with safeguards to avoid log(0) errors). A message confirms the applied transformation.\n",
    "10. No Transformation: If the user chooses \"n\" or an invalid method, a message indicates that the skewness remains unaddressed.\n",
    "11. No Skewness Detected: If no columns have significant skewness, a message informs the user.\n",
    "12. Data Return: The original DataFrame is returned (potentially with user-guided transformations on skewed columns)."
   ]
  },
  {
   "cell_type": "markdown",
   "metadata": {},
   "source": [
    "Normalization and scaling are closely related data preprocessing techniques used in machine learning, but they have subtle differences:\n",
    "\n",
    "**Normalization:**\n",
    "\n",
    "* **Goal:** Normalize data features to a specific range (often 0 to 1 or -1 to 1). This ensures all features contribute equally during model training and can improve the convergence and stability of some algorithms. \n",
    "* **Methods:** Common normalization techniques include:\n",
    "    * **Min-Max Scaling:** Scales each feature to a range between a minimum value (usually 0) and a maximum value (usually 1).\n",
    "    * **Standardization (Z-score):** Subtracts the mean of each feature from its values and then divides by the standard deviation. This results in a standard normal distribution with a mean of 0 and a standard deviation of 1.\n",
    "\n",
    "**Scaling:**\n",
    "\n",
    "* **Goal:** Scale data features to have a similar range or variance. This can be helpful for algorithms that are sensitive to the scale of the data. While normalization achieves a specific range, scaling can involve transformations to a broader range depending on the chosen method.\n",
    "* **Methods:** Scaling encompasses various techniques, including normalization (min-max scaling and standardization) as well as:\n",
    "    * **Robust Scaling:** Similar to standardization but uses the median and interquartile range (IQR) to be less sensitive to outliers.\n",
    "\n",
    "**Here's an analogy:**\n",
    "\n",
    "Imagine ingredients for a recipe.\n",
    "\n",
    "* **Normalization:** This is like measuring all ingredients in teaspoons or grams (a specific unit system).\n",
    "* **Scaling:** This is like ensuring all ingredients are in similar quantities, even if not using the same units (e.g., adjusting cup measurements to be closer to the amount of a teaspoon measurement used in another ingredient).\n",
    "\n",
    "**Key Points:**\n",
    "\n",
    "* **Normalization is a specific type of scaling:**  Normalization techniques (min-max scaling and standardization) fall under the broader category of scaling.\n",
    "* **Scaling can be more general:** Scaling can encompass methods beyond normalization, like robust scaling, which might be preferable in some scenarios.\n",
    "* **Focus:** Normalization emphasizes bringing features to a specific range, while scaling focuses on making features have similar scales or variances.\n",
    "\n",
    "**In practice, the terms \"normalization\" and \"scaling\" are sometimes used interchangeably, especially when referring to min-max scaling or standardization.** However, it's important to understand the nuances to choose the most appropriate technique for your data and modeling task.\n"
   ]
  },
  {
   "cell_type": "code",
   "execution_count": null,
   "metadata": {},
   "outputs": [],
   "source": [
    "# Data Types"
   ]
  },
  {
   "cell_type": "markdown",
   "metadata": {},
   "source": [
    "Focus: Data preprocessing transforms the data into a format suitable for analysis or machine learning models.\n",
    "\n",
    "Data Type Conversion: Here, converting data types might be done to prepare the data for specific modeling algorithms.\n",
    "Examples:\n",
    "- Converting categorical variables to numerical representations (e.g., one-hot encoding, label encoding) for modeling algorithms that require numerical features.\n",
    "- Converting text data to numerical features suitable for certain models (e.g., TF-IDF) for tasks like text classification."
   ]
  }
 ],
 "metadata": {
  "language_info": {
   "name": "python"
  },
  "orig_nbformat": 4
 },
 "nbformat": 4,
 "nbformat_minor": 2
}
